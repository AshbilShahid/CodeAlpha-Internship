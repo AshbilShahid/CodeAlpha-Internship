{
  "nbformat": 4,
  "nbformat_minor": 0,
  "metadata": {
    "colab": {
      "provenance": []
    },
    "kernelspec": {
      "name": "python3",
      "display_name": "Python 3"
    },
    "language_info": {
      "name": "python"
    }
  },
  "cells": [
    {
      "cell_type": "markdown",
      "source": [
        "This **Gaming FAQ chatbot** developed by **M.Ashbil Shahid** leverages *SpaCy NLP* and Gradio to answer game/account queries with 15+ pre-trained responses. Features include semantic understanding, dynamic reply generation, and clickable example queries in a user-friendly interface. Ideal for instant troubleshooting and gaming platform support!"
      ],
      "metadata": {
        "id": "RQbaW8RrvhnH"
      }
    },
    {
      "cell_type": "markdown",
      "source": [
        "\n",
        "# Necessary Libraries"
      ],
      "metadata": {
        "id": "c71ELLrfZiQZ"
      }
    },
    {
      "cell_type": "code",
      "source": [
        "# Install required libraries\n",
        "!pip install gradio spacy\n",
        "!python -m spacy download en_core_web_md\n",
        "\n",
        "import spacy\n",
        "import gradio as gr\n",
        "import random\n",
        "from string import punctuation"
      ],
      "metadata": {
        "id": "5x_Aq2iJsoUJ"
      },
      "execution_count": null,
      "outputs": []
    },
    {
      "cell_type": "markdown",
      "source": [
        "\n",
        "# NLP Model"
      ],
      "metadata": {
        "id": "GRoJm-oJvDDd"
      }
    },
    {
      "cell_type": "code",
      "source": [
        "# Load NLP model\n",
        "nlp = spacy.load(\"en_core_web_md\")"
      ],
      "metadata": {
        "id": "C4UpB17YumIk"
      },
      "execution_count": 2,
      "outputs": []
    },
    {
      "cell_type": "markdown",
      "source": [
        "\n",
        "# FAQ Dataset"
      ],
      "metadata": {
        "id": "g5LhbMRYvDfv"
      }
    },
    {
      "cell_type": "code",
      "source": [
        "# Expanded gaming FAQ dataset\n",
        "gaming_faqs = [\n",
        "    (\"How do I reset my password?\",\n",
        "     \"You can reset your password by visiting our account recovery page and following the instructions.\"),\n",
        "    (\"Can I play my games on multiple devices?\",\n",
        "     \"Yes, your games are linked to your account. You can access them from any device by logging in.\"),\n",
        "    (\"What are the system requirements for your games?\",\n",
        "     \"Our games require at least 8GB RAM, a dedicated GPU with 4GB VRAM, and Windows 10 or later.\"),\n",
        "    (\"How do I enable two-factor authentication?\",\n",
        "     \"In your account security settings, look for 'Two-Factor Authentication' and follow the setup instructions.\"),\n",
        "    (\"Why is my account banned?\",\n",
        "     \"Account bans typically result from violations of our terms of service. Contact support for specific details.\"),\n",
        "    (\"Can I transfer my progress between platforms?\",\n",
        "     \"Cross-platform progression is supported for all games released after 2022. Check individual game settings.\"),\n",
        "    (\"How do I request a refund?\",\n",
        "     \"Refunds can be requested within 14 days of purchase through your order history page, provided playtime is under 2 hours.\"),\n",
        "    (\"Are your games cross-platform compatible?\",\n",
        "     \"Most of our recent games support cross-play between PC, Xbox, and PlayStation. Check individual game pages.\"),\n",
        "    (\"How do I report a bug?\",\n",
        "     \"Use the 'Report Issue' feature in the game's main menu or visit our support website.\"),\n",
        "    (\"What payment methods do you accept?\",\n",
        "     \"We accept all major credit cards, PayPal, and select cryptocurrency options.\"),\n",
        "    (\"How do I link my console account to PC?\",\n",
        "     \"Visit the 'Connected Accounts' section in your profile settings to link platforms.\"),\n",
        "    (\"Why is my download speed slow?\",\n",
        "     \"Check your internet connection, try pausing other downloads, or select a different download region in settings.\"),\n",
        "    (\"Can I play offline?\",\n",
        "     \"Most games support offline play for single-player modes. Multiplayer requires an internet connection.\"),\n",
        "    (\"How do I redeem a promo code?\",\n",
        "     \"Go to 'Redeem Code' in your account dashboard and enter your promotional code.\"),\n",
        "    (\"What's the difference between editions?\",\n",
        "     \"Deluxe editions include bonus content like skins, soundtracks, and season passes. Check product descriptions.\"),\n",
        "]"
      ],
      "metadata": {
        "id": "R4DtVJSDumYt"
      },
      "execution_count": 3,
      "outputs": []
    },
    {
      "cell_type": "markdown",
      "source": [
        "\n",
        "# Function"
      ],
      "metadata": {
        "id": "dBvLJ86SvEPf"
      }
    },
    {
      "cell_type": "code",
      "source": [
        "# Preprocess text function\n",
        "def preprocess(text):\n",
        "    doc = nlp(text.lower().strip())\n",
        "    return \" \".join([token.lemma_ for token in doc if not token.is_punct and not token.is_stop])\n",
        "\n",
        "# Find best matching FAQ\n",
        "def get_answer(question):\n",
        "    processed_input = preprocess(question)\n",
        "    max_similarity = 0\n",
        "    best_answer = \"I'm not sure about that. Please contact support for more help.\"\n",
        "\n",
        "    for faq_question, answer in gaming_faqs:\n",
        "        processed_faq = preprocess(faq_question)\n",
        "        similarity = nlp(processed_input).similarity(nlp(processed_faq))\n",
        "        if similarity > max_similarity:\n",
        "            max_similarity = similarity\n",
        "            best_answer = answer\n",
        "\n",
        "    if max_similarity < 0.5:  # Similarity threshold\n",
        "        return random.choice([\n",
        "            \"Could you please rephrase that?\",\n",
        "            \"I'm not sure I understand. Can you ask differently?\",\n",
        "            \"Hmm, I don't have that information. Maybe try another question?\"\n",
        "        ])\n",
        "    return best_answer"
      ],
      "metadata": {
        "id": "XEIw0mMFumka"
      },
      "execution_count": 4,
      "outputs": []
    },
    {
      "cell_type": "markdown",
      "source": [
        "\n",
        "# Interface"
      ],
      "metadata": {
        "id": "FI6oJXA4vEmb"
      }
    },
    {
      "cell_type": "code",
      "source": [
        "# Gradio interface with gaming-specific examples\n",
        "demo = gr.Interface(\n",
        "    fn=get_answer,\n",
        "    inputs=gr.Textbox(label=\"Ask about your gaming account or games\", placeholder=\"Type your question here...\"),\n",
        "    outputs=gr.Textbox(label=\"Answer\"),\n",
        "    examples=[\n",
        "        [\"How to reset password?\"],\n",
        "        [\"Can I play on Xbox and PC?\"],\n",
        "        [\"System requirements for new games?\"],\n",
        "        [\"How to get my account unbanned?\"],\n",
        "        [\"Where do I enter promo codes?\"],\n",
        "        [\"Is cross-platform play supported?\"],\n",
        "        [\"How long for refund processing?\"],\n",
        "        [\"Why can't I connect to multiplayer?\"],\n",
        "        [\"How to link Steam account?\"],\n",
        "        [\"What's included in deluxe edition?\"]\n",
        "    ],\n",
        "    title=\"🎮 Game Support FAQs Bot\",\n",
        "    description=\"Ask questions about your gaming account, game features, technical issues, and purchases:\",\n",
        "    theme=\"soft\"\n",
        ")"
      ],
      "metadata": {
        "id": "zn3mUjtWuyJc"
      },
      "execution_count": 5,
      "outputs": []
    },
    {
      "cell_type": "markdown",
      "source": [
        "\n",
        "# Launch the App"
      ],
      "metadata": {
        "id": "x8xbpy_cvFZa"
      }
    },
    {
      "cell_type": "code",
      "source": [
        "# Launch the interface\n",
        "demo.launch(debug=True)"
      ],
      "metadata": {
        "id": "e7VvpVCduzVn"
      },
      "execution_count": null,
      "outputs": []
    }
  ]
}